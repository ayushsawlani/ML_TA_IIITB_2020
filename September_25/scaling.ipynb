{
 "cells": [
  {
   "cell_type": "markdown",
   "metadata": {},
   "source": [
    "# Complete Guide to Understanding Skews and Distributions\n",
    "\n",
    "This notebook will go into in-depth explanation for various tranformations we apply to our data, when these tranformations are necessary, with decent math to support the arguments.  "
   ]
  },
  {
   "cell_type": "code",
   "execution_count": 1,
   "metadata": {},
   "outputs": [],
   "source": [
    "import pandas as pd\n",
    "import numpy as np\n",
    "import matplotlib.pyplot as plt\n",
    "import seaborn as sns\n",
    "import re\n",
    "from scipy import stats\n",
    "from scipy.stats import norm\n",
    "from sklearn.preprocessing import StandardScaler"
   ]
  },
  {
   "cell_type": "markdown",
   "metadata": {},
   "source": [
    "## Normalisation, Standardisation and manual Re-Scaling\n",
    "Normalisation and Standardisation are methods to rescale features to a similar range. This is a very important step in gradient descent and distance based algorithms like linear regression, Neural Networks, clustering algorithms etc because the incremental change (delta-x) determines the strength of the slope. If feature A ranges between -100 to 2000 and feature B ranges between 3 to 7, the model will give more preference/weight to feature A **just** because the feature value (xi) is part of the gradient descent equation. \n",
    "\n",
    "![](gradiant_descent.jpg)\n",
    "\n",
    "### Standardisation\n",
    "To overcome this, we bring down all features to a common scale. In **Standardisation** techniques like z-tranform, we make the distribution to have a mean 0 and standard-deviation 1.\n",
    "![](ztranform.png)\n",
    "\n",
    "### Normalisation\n",
    "min-max norm brings the range down to 0-1. The max extremum can never be more than 1 and min extremum can never be less than 0. \n",
    "![](minmax.png)\n",
    "\n",
    "\n",
    "\n",
    "\n",
    "First, we'll create a dummy dataset with an outlier to compare these two tranformations. "
   ]
  },
  {
   "cell_type": "code",
   "execution_count": 3,
   "metadata": {},
   "outputs": [],
   "source": [
    "testd1 = np.random.randint(40, size=100)\n",
    "testd2 = np.random.randint(5, size=100)\n",
    "testnew = np.vstack((testd1, testd2))\n",
    "norm = pd.DataFrame(testnew.transpose(), columns=['axis1', 'axis2'])\n",
    "outlier = pd.DataFrame({\"axis1\": [80], \"axis2\":[3]})\n",
    "final = norm.append(outlier, ignore_index = True)"
   ]
  },
  {
   "cell_type": "markdown",
   "metadata": {},
   "source": [
    "This is the original data distribution"
   ]
  },
  {
   "cell_type": "code",
   "execution_count": 4,
   "metadata": {},
   "outputs": [
    {
     "data": {
      "text/plain": [
       "<AxesSubplot:xlabel='axis1', ylabel='axis2'>"
      ]
     },
     "execution_count": 4,
     "metadata": {},
     "output_type": "execute_result"
    },
    {
     "data": {
      "image/png": "[encoded data removed]",
      "text/plain": [
       "<Figure size 432x288 with 1 Axes>"
      ]
     },
     "metadata": {
      "needs_background": "light"
     },
     "output_type": "display_data"
    }
   ],
   "source": [
    "#original data dist\n",
    "sns.scatterplot(x = final.axis1, y = final.axis2)"
   ]
  },
  {
   "cell_type": "markdown",
   "metadata": {},
   "source": [
    "After application of a min-max scaling, the data distribution changes. Observe the scales on X and Y axes. "
   ]
  },
  {
   "cell_type": "code",
   "execution_count": 5,
   "metadata": {},
   "outputs": [],
   "source": [
    "#minmax normalisation\n",
    "def minmaxnorm(x):\n",
    "    return ((x - x.min())/(x.max() - x.min()))\n",
    "\n",
    "#Z transform \"standardisation\"\n",
    "def ztransform(x):\n",
    "    return (x - x.mean())/x.std()"
   ]
  },
  {
   "cell_type": "code",
   "execution_count": 6,
   "metadata": {},
   "outputs": [
    {
     "data": {
      "text/plain": [
       "<AxesSubplot:xlabel='axis1', ylabel='axis2'>"
      ]
     },
     "execution_count": 6,
     "metadata": {},
     "output_type": "execute_result"
    },
    {
     "data": {
      "image/png": "[encoded data removed]",
      "text/plain": [
       "<Figure size 432x288 with 1 Axes>"
      ]
     },
     "metadata": {
      "needs_background": "light"
     },
     "output_type": "display_data"
    }
   ],
   "source": [
    "#min-max scaling\n",
    "sns.scatterplot(x = minmaxnorm(final.axis1), y = minmaxnorm(final.axis2))"
   ]
  },
  {
   "cell_type": "markdown",
   "metadata": {},
   "source": [
    "Now we apply z-tranform and observe the changes. "
   ]
  },
  {
   "cell_type": "code",
   "execution_count": 8,
   "metadata": {},
   "outputs": [
    {
     "data": {
      "text/plain": [
       "<AxesSubplot:xlabel='axis1', ylabel='axis2'>"
      ]
     },
     "execution_count": 8,
     "metadata": {},
     "output_type": "execute_result"
    },
    {
     "data": {
      "image/png": "[encoded data removed]",
      "text/plain": [
       "<Figure size 432x288 with 1 Axes>"
      ]
     },
     "metadata": {
      "needs_background": "light"
     },
     "output_type": "display_data"
    }
   ],
   "source": [
    "#min-max scaling\n",
    "sns.scatterplot(x = ztransform(final.axis1), y = ztransform(final.axis2))"
   ]
  },
  {
   "cell_type": "markdown",
   "metadata": {},
   "source": [
    "### Couple of observations\n",
    "1. For min-max scaling the scale on the x-axis is from 0-1 whereas on y-axis its from 0-0.45ish, with the outlier at 1.0. \n",
    "2. For z-transform, the scale isn't between 0-1, but both x-axis and y-axis range between -1.5 to 1.5, with the outlier outside the range.\n",
    "\n",
    "### Why did this happen? \n",
    "It's pretty evident in the formula itself. min-max scaling using the extremums of the data for rescaling the data between 0-1. These extremums are easily affected by the outliers, which change the scaling factor in the denominator. This isn't a problem with z-transform, which rescales it with the help of standard deviation, which doesn't bring the range between 0-1, but makes sure that outliers don't affect it, as outliers have little effect on the standard deviation, which is a collective measure. \n",
    "\n",
    "### When to use what? \n",
    "\n",
    "It depends on the application use case. Standardisation is advisable to use when the distribution has outliers, as the re-scaling factor doesn't depend on extremums. Standardisation also makes sense when you know that your data is a a guassian distribution, as we are using the mean and SD. Standardisation is commonly used for various statistical tests which require data to be centered at 0.\n",
    "\n",
    "Min-max scaling makes more sense when the data has outliers or datapoints which lie relatively far away from the mean. It is also advisable to use min-max scaling when the goal is to bring all features down to a specific scale, like in image processing, rather than simply a common scale across all features, as we saw in the examples.\n",
    ".  "
   ]
  },
  {
   "cell_type": "markdown",
   "metadata": {},
   "source": [
    "## Skew Removal\n",
    "Skewed data makes learning hard, as the skewed data can be interpreted as an imbalance in data/class distribution. As there is less data in the skewed tail when compared to the peak area, the model will be biased towards data points lying near the peak.\n",
    "\n",
    "You need to remember that skew removal is for your algorithm to model it easily as a symmetric distribution. For making some sense about the data, you need to use the original skewed data again.  \n",
    "\n"
   ]
  },
  {
   "cell_type": "code",
   "execution_count": null,
   "metadata": {},
   "outputs": [],
   "source": []
  }
 ],
 "metadata": {
  "kernelspec": {
   "display_name": "Python 3",
   "language": "python",
   "name": "python3"
  },
  "language_info": {
   "codemirror_mode": {
    "name": "ipython",
    "version": 3
   },
   "file_extension": ".py",
   "mimetype": "text/x-python",
   "name": "python",
   "nbconvert_exporter": "python",
   "pygments_lexer": "ipython3",
   "version": "3.7.7"
  }
 },
 "nbformat": 4,
 "nbformat_minor": 4
}
